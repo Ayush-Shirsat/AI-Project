{
 "cells": [
  {
   "cell_type": "code",
   "execution_count": 1,
   "metadata": {},
   "outputs": [
    {
     "name": "stderr",
     "output_type": "stream",
     "text": [
      "Using TensorFlow backend.\n"
     ]
    }
   ],
   "source": [
    "import tensorflow as tf\n",
    "from keras import Input, Model\n",
    "from keras.layers import UpSampling2D, add\n",
    "from keras.layers import Input, BatchNormalization, Activation, Dense, Dropout, LeakyReLU\n",
    "from keras.models import Sequential\n",
    "from keras.layers.core import Dense, Dropout, Activation, Flatten\n",
    "from keras.layers.convolutional import Conv2D, MaxPooling2D, ZeroPadding2D\n",
    "from keras.optimizers import SGD, rmsprop\n",
    "from keras.losses import binary_crossentropy\n",
    "from keras.callbacks import EarlyStopping, ModelCheckpoint, ReduceLROnPlateau\n",
    "from keras.utils import np_utils\n",
    "import matplotlib.pyplot as plt\n",
    "import matplotlib\n",
    "import os\n",
    "os.environ['TF_CPP_MIN_LOG_LEVEL'] = '2' # Disable warning message of tensorflow\n",
    "import numpy as np\n",
    "from sklearn.utils import shuffle\n",
    "from sklearn.model_selection import train_test_split\n",
    "from sklearn.model_selection import cross_val_score\n",
    "from sklearn.model_selection import KFold\n",
    "from sklearn.preprocessing import MultiLabelBinarizer\n",
    "from sklearn.pipeline import Pipeline\n",
    "#from sklearn.metrics import classification_report,confusion_matrix\n",
    "import csv\n",
    "import cv2"
   ]
  },
  {
   "cell_type": "code",
   "execution_count": 2,
   "metadata": {},
   "outputs": [
    {
     "name": "stdout",
     "output_type": "stream",
     "text": [
      "(32611, 12288)\n"
     ]
    }
   ],
   "source": [
    "# Load X data\n",
    "path1 = './train_vgg/'\n",
    "X_data = os.listdir(path1)\n",
    "X_data = sorted(X_data)\n",
    "\n",
    "X = np.array([np.array(cv2.imread(path1 + img)).flatten() for img in X_data],'f') \n",
    "X = np.array(X)\n",
    "print(np.shape(X))"
   ]
  },
  {
   "cell_type": "code",
   "execution_count": 3,
   "metadata": {},
   "outputs": [],
   "source": [
    "data = np.genfromtxt('annot_train.csv', delimiter = ',')\n",
    "l1,l2 = np.shape(data)\n",
    "Y = data[1:l1,1:3]\n",
    "Y = np.array(Y)\n",
    "# print(np.shape(Y))\n",
    "# print(Y)\n",
    "# mlb = MultiLabelBinarizer()\n",
    "# label = mlb.fit_transform(Y)\n",
    "# for (i, label) in enumerate(mlb.classes_):\n",
    "#     print(\"{}. {}\".format(i + 1, label))\n",
    "# print(label)"
   ]
  },
  {
   "cell_type": "code",
   "execution_count": 4,
   "metadata": {},
   "outputs": [],
   "source": [
    "#batch_size to train\n",
    "batch_size = 256\n",
    "\n",
    "# number of output classes\n",
    "nb_classes = 2\n",
    "\n",
    "# number of epochs to train\n",
    "nb_epoch = 50"
   ]
  },
  {
   "cell_type": "code",
   "execution_count": 5,
   "metadata": {},
   "outputs": [
    {
     "name": "stdout",
     "output_type": "stream",
     "text": [
      "(29349, 2)\n"
     ]
    }
   ],
   "source": [
    "X_train, X_test, Y_train, Y_test = train_test_split(X, Y, test_size=0.1, random_state = 4)\n",
    "X_train = X_train.reshape(X_train.shape[0], 64, 64, 3)\n",
    "X_test = X_test.reshape(X_test.shape[0], 64, 64, 3)\n",
    "\n",
    "# Assigning X_train and X_test as float\n",
    "X_train = X_train.astype('float32') \n",
    "X_test = X_test.astype('float32')\n",
    "\n",
    "# Normalization of data \n",
    "# Data pixels are between 0 and 1\n",
    "X_train /= 255\n",
    "X_test /= 255\n",
    "\n",
    "# Convert class vectors to binary class matrices\n",
    "print(np.shape(Y_train))\n",
    "# mlb = MultiLabelBinarizer(classes=None, sparse_output)\n",
    "Y_train = np_utils.to_categorical(Y_train, nb_classes)\n",
    "Y_test = np_utils.to_categorical(Y_test, nb_classes)\n"
   ]
  },
  {
   "cell_type": "code",
   "execution_count": 7,
   "metadata": {},
   "outputs": [],
   "source": [
    "Y_train = Y_train[0:len(Y_train),0:2,1]\n",
    "Y_test = Y_test[0:len(Y_test),0:2,1]\n",
    "\n",
    "Y_train0 = Y_train[:,0]\n",
    "Y_train1 = Y_train[:,1]\n",
    "# Y_train2 = Y_train[:,2]\n",
    "# Y_train3 = Y_train[:,3]\n",
    "# Y_train4 = Y_train[:,4]\n",
    "# Y_train5 = Y_train[:,5]\n",
    "# Y_train6 = Y_train[:,6]\n",
    "# Y_train7 = Y_train[:,7]\n",
    "# Y_train8 = Y_train[:,8]\n",
    "# Y_train9 = Y_train[:,9]\n",
    "# Y_train = [Y_train0,Y_train1,Y_train2,Y_train3,Y_train4,Y_train5,Y_train6,Y_train7,Y_train8,Y_train9]\n",
    "\n",
    "Y_test0 = Y_test[:,0]\n",
    "Y_test1 = Y_test[:,1]\n",
    "# Y_test2 = Y_test[:,2]\n",
    "# Y_test3 = Y_test[:,3]\n",
    "# Y_test4 = Y_test[:,4]\n",
    "# Y_test5 = Y_test[:,5]\n",
    "# Y_test6 = Y_test[:,6]\n",
    "# Y_test7 = Y_test[:,7]\n",
    "# Y_test8 = Y_test[:,8]\n",
    "# Y_test9 = Y_test[:,9]\n"
   ]
  },
  {
   "cell_type": "code",
   "execution_count": 10,
   "metadata": {},
   "outputs": [],
   "source": [
    "inp = Input(shape = (64,64,3))\n",
    "x = Conv2D(32, (3, 3), padding = 'same')(inp)\n",
    "x = Activation('relu')(x)\n",
    "x = Conv2D(32, (3, 3))(x)\n",
    "x = Activation('relu')(x)\n",
    "x = MaxPooling2D(pool_size = (2, 2))(x)\n",
    "x = Dropout(0.25)(x)\n",
    "x = Conv2D(64, (3, 3), padding = 'same')(x)\n",
    "x = Activation('relu')(x)\n",
    "x = Conv2D(64, (3, 3))(x)\n",
    "x = Activation('relu')(x)\n",
    "x = MaxPooling2D(pool_size = (2, 2))(x)\n",
    "x = Dropout(0.25)(x)\n",
    "x = Flatten()(x)\n",
    "x = Dense(512)(x)\n",
    "x = Activation('relu')(x)\n",
    "x = Dropout(0.5)(x)\n",
    "output1 = Dense(1, activation = 'sigmoid')(x)\n",
    "output2 = Dense(1, activation = 'sigmoid')(x)\n",
    "# output3 = Dense(1, activation = 'sigmoid')(x)\n",
    "# output4 = Dense(1, activation = 'sigmoid')(x)\n",
    "# output5 = Dense(1, activation = 'sigmoid')(x)\n",
    "# output6 = Dense(1, activation = 'sigmoid')(x)\n",
    "# output7 = Dense(1, activation = 'sigmoid')(x)\n",
    "# output8 = Dense(1, activation = 'sigmoid')(x)\n",
    "# output9 = Dense(1, activation = 'sigmoid')(x)\n",
    "# output10 = Dense(1, activation = 'sigmoid')(x)\n",
    "model = Model(inp,[output1,output2]) # ,output3,output4,output5,output6,output7,output8,output9,output10])\n",
    "model.compile(rmsprop(lr = 0.0001, decay = 1e-6), loss = [\"binary_crossentropy\",\"binary_crossentropy\"],metrics = [\"accuracy\"])"
   ]
  },
  {
   "cell_type": "code",
   "execution_count": 11,
   "metadata": {},
   "outputs": [
    {
     "name": "stdout",
     "output_type": "stream",
     "text": [
      "Train on 23479 samples, validate on 5870 samples\n",
      "Epoch 1/20\n",
      "23479/23479 [==============================] - 22s 947us/step - loss: 1.3892 - dense_5_loss: 0.7092 - dense_6_loss: 0.6800 - dense_5_acc: 0.3810 - dense_6_acc: 0.6109 - val_loss: 1.3774 - val_dense_5_loss: 0.6948 - val_dense_6_loss: 0.6826 - val_dense_5_acc: 0.4494 - val_dense_6_acc: 0.6978\n",
      "Epoch 2/20\n",
      "23479/23479 [==============================] - 15s 637us/step - loss: 1.3594 - dense_5_loss: 0.6829 - dense_6_loss: 0.6765 - dense_5_acc: 0.6008 - dense_6_acc: 0.6339 - val_loss: 1.3540 - val_dense_5_loss: 0.6744 - val_dense_6_loss: 0.6796 - val_dense_5_acc: 0.9634 - val_dense_6_acc: 0.7058\n",
      "Epoch 3/20\n",
      "23479/23479 [==============================] - 15s 639us/step - loss: 1.3307 - dense_5_loss: 0.6584 - dense_6_loss: 0.6722 - dense_5_acc: 0.7744 - dense_6_acc: 0.6582 - val_loss: 1.3308 - val_dense_5_loss: 0.6543 - val_dense_6_loss: 0.6765 - val_dense_5_acc: 0.9993 - val_dense_6_acc: 0.7083\n",
      "Epoch 4/20\n",
      "23479/23479 [==============================] - 15s 640us/step - loss: 1.3026 - dense_5_loss: 0.6340 - dense_6_loss: 0.6686 - dense_5_acc: 0.8959 - dense_6_acc: 0.6684 - val_loss: 1.3071 - val_dense_5_loss: 0.6337 - val_dense_6_loss: 0.6734 - val_dense_5_acc: 0.9998 - val_dense_6_acc: 0.7090\n",
      "Epoch 5/20\n",
      "23479/23479 [==============================] - 15s 642us/step - loss: 1.2729 - dense_5_loss: 0.6085 - dense_6_loss: 0.6644 - dense_5_acc: 0.9609 - dense_6_acc: 0.6825 - val_loss: 1.2822 - val_dense_5_loss: 0.6122 - val_dense_6_loss: 0.6700 - val_dense_5_acc: 0.9998 - val_dense_6_acc: 0.7092\n",
      "Epoch 6/20\n",
      "23479/23479 [==============================] - 15s 652us/step - loss: 1.2429 - dense_5_loss: 0.5824 - dense_6_loss: 0.6606 - dense_5_acc: 0.9865 - dense_6_acc: 0.6897 - val_loss: 1.2554 - val_dense_5_loss: 0.5890 - val_dense_6_loss: 0.6664 - val_dense_5_acc: 0.9998 - val_dense_6_acc: 0.7092\n",
      "Epoch 7/20\n",
      "23479/23479 [==============================] - 16s 664us/step - loss: 1.2106 - dense_5_loss: 0.5542 - dense_6_loss: 0.6564 - dense_5_acc: 0.9966 - dense_6_acc: 0.6987 - val_loss: 1.2263 - val_dense_5_loss: 0.5639 - val_dense_6_loss: 0.6624 - val_dense_5_acc: 0.9998 - val_dense_6_acc: 0.7092\n",
      "Epoch 8/20\n",
      "23479/23479 [==============================] - 16s 672us/step - loss: 1.1762 - dense_5_loss: 0.5234 - dense_6_loss: 0.6528 - dense_5_acc: 0.9990 - dense_6_acc: 0.7030 - val_loss: 1.1947 - val_dense_5_loss: 0.5365 - val_dense_6_loss: 0.6582 - val_dense_5_acc: 0.9998 - val_dense_6_acc: 0.7092\n",
      "Epoch 9/20\n",
      "23479/23479 [==============================] - 16s 681us/step - loss: 1.1381 - dense_5_loss: 0.4907 - dense_6_loss: 0.6475 - dense_5_acc: 0.9997 - dense_6_acc: 0.7065 - val_loss: 1.1604 - val_dense_5_loss: 0.5068 - val_dense_6_loss: 0.6536 - val_dense_5_acc: 0.9998 - val_dense_6_acc: 0.7092\n",
      "Epoch 10/20\n",
      "23479/23479 [==============================] - 16s 681us/step - loss: 1.0986 - dense_5_loss: 0.4568 - dense_6_loss: 0.6418 - dense_5_acc: 0.9998 - dense_6_acc: 0.7081 - val_loss: 1.1235 - val_dense_5_loss: 0.4748 - val_dense_6_loss: 0.6488 - val_dense_5_acc: 0.9998 - val_dense_6_acc: 0.7092\n",
      "Epoch 11/20\n",
      "23479/23479 [==============================] - 16s 691us/step - loss: 1.0576 - dense_5_loss: 0.4207 - dense_6_loss: 0.6369 - dense_5_acc: 0.9999 - dense_6_acc: 0.7112 - val_loss: 1.0844 - val_dense_5_loss: 0.4407 - val_dense_6_loss: 0.6437 - val_dense_5_acc: 0.9998 - val_dense_6_acc: 0.7092\n",
      "Epoch 12/20\n",
      "23479/23479 [==============================] - 16s 686us/step - loss: 1.0151 - dense_5_loss: 0.3835 - dense_6_loss: 0.6316 - dense_5_acc: 0.9999 - dense_6_acc: 0.7112 - val_loss: 1.0439 - val_dense_5_loss: 0.4053 - val_dense_6_loss: 0.6386 - val_dense_5_acc: 0.9998 - val_dense_6_acc: 0.7092\n",
      "Epoch 13/20\n",
      "23479/23479 [==============================] - 16s 689us/step - loss: 0.9729 - dense_5_loss: 0.3465 - dense_6_loss: 0.6264 - dense_5_acc: 0.9999 - dense_6_acc: 0.7136 - val_loss: 1.0028 - val_dense_5_loss: 0.3693 - val_dense_6_loss: 0.6335 - val_dense_5_acc: 0.9998 - val_dense_6_acc: 0.7092\n",
      "Epoch 14/20\n",
      "23479/23479 [==============================] - 16s 695us/step - loss: 0.9317 - dense_5_loss: 0.3091 - dense_6_loss: 0.6226 - dense_5_acc: 0.9999 - dense_6_acc: 0.7135 - val_loss: 0.9625 - val_dense_5_loss: 0.3339 - val_dense_6_loss: 0.6286 - val_dense_5_acc: 0.9998 - val_dense_6_acc: 0.7092\n",
      "Epoch 15/20\n",
      "23479/23479 [==============================] - 16s 695us/step - loss: 0.8949 - dense_5_loss: 0.2747 - dense_6_loss: 0.6202 - dense_5_acc: 0.9999 - dense_6_acc: 0.7140 - val_loss: 0.9242 - val_dense_5_loss: 0.3000 - val_dense_6_loss: 0.6242 - val_dense_5_acc: 0.9998 - val_dense_6_acc: 0.7092\n",
      "Epoch 16/20\n",
      "23479/23479 [==============================] - 16s 693us/step - loss: 0.8578 - dense_5_loss: 0.2421 - dense_6_loss: 0.6158 - dense_5_acc: 0.9999 - dense_6_acc: 0.7143 - val_loss: 0.8885 - val_dense_5_loss: 0.2682 - val_dense_6_loss: 0.6203 - val_dense_5_acc: 0.9998 - val_dense_6_acc: 0.7092\n",
      "Epoch 17/20\n",
      "23479/23479 [==============================] - 16s 690us/step - loss: 0.8263 - dense_5_loss: 0.2127 - dense_6_loss: 0.6136 - dense_5_acc: 0.9999 - dense_6_acc: 0.7143 - val_loss: 0.8563 - val_dense_5_loss: 0.2393 - val_dense_6_loss: 0.6170 - val_dense_5_acc: 0.9998 - val_dense_6_acc: 0.7092\n",
      "Epoch 18/20\n",
      "23479/23479 [==============================] - 16s 697us/step - loss: 0.7995 - dense_5_loss: 0.1869 - dense_6_loss: 0.6126 - dense_5_acc: 0.9999 - dense_6_acc: 0.7144 - val_loss: 0.8277 - val_dense_5_loss: 0.2133 - val_dense_6_loss: 0.6143 - val_dense_5_acc: 0.9998 - val_dense_6_acc: 0.7092\n",
      "Epoch 19/20\n",
      "23479/23479 [==============================] - 16s 700us/step - loss: 0.7765 - dense_5_loss: 0.1646 - dense_6_loss: 0.6119 - dense_5_acc: 0.9999 - dense_6_acc: 0.7144 - val_loss: 0.8027 - val_dense_5_loss: 0.1905 - val_dense_6_loss: 0.6122 - val_dense_5_acc: 0.9998 - val_dense_6_acc: 0.7092\n",
      "Epoch 20/20\n",
      "23479/23479 [==============================] - 16s 701us/step - loss: 0.7558 - dense_5_loss: 0.1454 - dense_6_loss: 0.6104 - dense_5_acc: 0.9999 - dense_6_acc: 0.7142 - val_loss: 0.7811 - val_dense_5_loss: 0.1705 - val_dense_6_loss: 0.6106 - val_dense_5_acc: 0.9998 - val_dense_6_acc: 0.7092\n",
      "__________________________________________________________________________________________________\n",
      "Layer (type)                    Output Shape         Param #     Connected to                     \n",
      "==================================================================================================\n",
      "input_2 (InputLayer)            (None, 64, 64, 3)    0                                            \n",
      "__________________________________________________________________________________________________\n",
      "conv2d_5 (Conv2D)               (None, 64, 64, 32)   896         input_2[0][0]                    \n",
      "__________________________________________________________________________________________________\n",
      "activation_6 (Activation)       (None, 64, 64, 32)   0           conv2d_5[0][0]                   \n",
      "__________________________________________________________________________________________________\n",
      "conv2d_6 (Conv2D)               (None, 62, 62, 32)   9248        activation_6[0][0]               \n",
      "__________________________________________________________________________________________________\n",
      "activation_7 (Activation)       (None, 62, 62, 32)   0           conv2d_6[0][0]                   \n",
      "__________________________________________________________________________________________________\n",
      "max_pooling2d_3 (MaxPooling2D)  (None, 31, 31, 32)   0           activation_7[0][0]               \n",
      "__________________________________________________________________________________________________\n",
      "dropout_4 (Dropout)             (None, 31, 31, 32)   0           max_pooling2d_3[0][0]            \n",
      "__________________________________________________________________________________________________\n",
      "conv2d_7 (Conv2D)               (None, 31, 31, 64)   18496       dropout_4[0][0]                  \n",
      "__________________________________________________________________________________________________\n",
      "activation_8 (Activation)       (None, 31, 31, 64)   0           conv2d_7[0][0]                   \n",
      "__________________________________________________________________________________________________\n",
      "conv2d_8 (Conv2D)               (None, 29, 29, 64)   36928       activation_8[0][0]               \n",
      "__________________________________________________________________________________________________\n",
      "activation_9 (Activation)       (None, 29, 29, 64)   0           conv2d_8[0][0]                   \n",
      "__________________________________________________________________________________________________\n",
      "max_pooling2d_4 (MaxPooling2D)  (None, 14, 14, 64)   0           activation_9[0][0]               \n",
      "__________________________________________________________________________________________________\n",
      "dropout_5 (Dropout)             (None, 14, 14, 64)   0           max_pooling2d_4[0][0]            \n",
      "__________________________________________________________________________________________________\n",
      "flatten_2 (Flatten)             (None, 12544)        0           dropout_5[0][0]                  \n",
      "__________________________________________________________________________________________________\n",
      "dense_4 (Dense)                 (None, 512)          6423040     flatten_2[0][0]                  \n",
      "__________________________________________________________________________________________________\n",
      "activation_10 (Activation)      (None, 512)          0           dense_4[0][0]                    \n",
      "__________________________________________________________________________________________________\n",
      "dropout_6 (Dropout)             (None, 512)          0           activation_10[0][0]              \n",
      "__________________________________________________________________________________________________\n",
      "dense_5 (Dense)                 (None, 1)            513         dropout_6[0][0]                  \n",
      "__________________________________________________________________________________________________\n",
      "dense_6 (Dense)                 (None, 1)            513         dropout_6[0][0]                  \n",
      "==================================================================================================\n",
      "Total params: 6,489,634\n",
      "Trainable params: 6,489,634\n",
      "Non-trainable params: 0\n",
      "__________________________________________________________________________________________________\n"
     ]
    }
   ],
   "source": [
    "opt = SGD(lr = 0.0001)\n",
    "model.compile(optimizer=opt, loss='binary_crossentropy', metrics=[\"accuracy\"])\n",
    "\n",
    "callbacks = [EarlyStopping(monitor='val_loss', patience=5)]\n",
    "\n",
    "results = model.fit(X_train, [Y_train0,Y_train1], batch_size=512, epochs=20, callbacks=callbacks, validation_split = 0.2) # ,Y_train2,Y_train3,Y_train4,Y_train5,Y_train6,Y_train7,Y_train8,Y_train9], batch_size=512, epochs=20, callbacks=callbacks, validation_split = 0.2)\n",
    "model.summary()"
   ]
  },
  {
   "cell_type": "code",
   "execution_count": 12,
   "metadata": {},
   "outputs": [],
   "source": [
    "# visualizing losses and accuracy\n",
    "train_loss = results.history['loss']\n",
    "val_loss = results.history['val_loss'] \n",
    "train_acc = results.history['dense_6_acc']\n",
    "val_acc = results.history['val_dense_6_acc']"
   ]
  },
  {
   "cell_type": "code",
   "execution_count": 13,
   "metadata": {},
   "outputs": [
    {
     "data": {
      "image/png": "[encoded data removed]",
      "text/plain": [
       "<Figure size 576x576 with 1 Axes>"
      ]
     },
     "metadata": {},
     "output_type": "display_data"
    }
   ],
   "source": [
    "plt.figure(figsize=(8, 8))\n",
    "plt.title(\"Learning curve\")\n",
    "plt.plot(results.history[\"loss\"], label=\"loss\")\n",
    "plt.plot(results.history[\"val_loss\"], label=\"val_loss\")\n",
    "plt.plot(np.argmin(results.history[\"val_loss\"]), np.min(results.history[\"val_loss\"]), marker=\"x\", color=\"r\", label=\"best model\")\n",
    "plt.xlabel(\"Epochs\")\n",
    "plt.ylabel(\"loss\")\n",
    "plt.legend();"
   ]
  },
  {
   "cell_type": "code",
   "execution_count": null,
   "metadata": {},
   "outputs": [],
   "source": [
    "y_pred = model.predict(X_test) # Predicts classes of all images in test data \n",
    "print(y_pred[1])\n",
    "# p = model.predict_proba(X_test) # To predict probability\n",
    "# print(p[0])"
   ]
  },
  {
   "cell_type": "code",
   "execution_count": null,
   "metadata": {},
   "outputs": [],
   "source": [
    "print(np.transpose(y_pred[5]),'\\n',Y_test[5])\n",
    "lol = np.array(y_pred[3])\n",
    "print(lol)"
   ]
  },
  {
   "cell_type": "code",
   "execution_count": null,
   "metadata": {},
   "outputs": [],
   "source": []
  }
 ],
 "metadata": {
  "kernelspec": {
   "display_name": "Python 3",
   "language": "python",
   "name": "python3"
  },
  "language_info": {
   "codemirror_mode": {
    "name": "ipython",
    "version": 3
   },
   "file_extension": ".py",
   "mimetype": "text/x-python",
   "name": "python",
   "nbconvert_exporter": "python",
   "pygments_lexer": "ipython3",
   "version": "3.6.5"
  }
 },
 "nbformat": 4,
 "nbformat_minor": 2
}
